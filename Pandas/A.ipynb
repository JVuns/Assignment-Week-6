{
 "metadata": {
  "language_info": {
   "codemirror_mode": {
    "name": "ipython",
    "version": 3
   },
   "file_extension": ".py",
   "mimetype": "text/x-python",
   "name": "python",
   "nbconvert_exporter": "python",
   "pygments_lexer": "ipython3",
   "version": "3.8.3-final"
  },
  "orig_nbformat": 2,
  "kernelspec": {
   "name": "python3",
   "display_name": "Python 3",
   "language": "python"
  }
 },
 "nbformat": 4,
 "nbformat_minor": 2,
 "cells": [
  {
   "cell_type": "code",
   "execution_count": 3,
   "metadata": {},
   "outputs": [],
   "source": [
    "# Import stuff\n",
    "import pandas as pd\n",
    "# import matplotlib as plt\n",
    "filepath = \"D:/Ran/activity.csv\"\n",
    "\n"
   ]
  },
  {
   "cell_type": "code",
   "execution_count": 4,
   "metadata": {
    "tags": []
   },
   "outputs": [
    {
     "output_type": "stream",
     "name": "stdout",
     "text": [
      "9354.0\n"
     ]
    },
    {
     "output_type": "execute_result",
     "data": {
      "text/plain": [
       "570608.0"
      ]
     },
     "metadata": {},
     "execution_count": 4
    }
   ],
   "source": [
    "# 1\n",
    "df = pd.read_csv(str(filepath))\n",
    "print(round(df[\"steps\"].sum()/df.iloc[:,1].nunique()))"
   ]
  },
  {
   "cell_type": "code",
   "execution_count": 67,
   "metadata": {},
   "outputs": [],
   "source": [
    "# 2\n",
    "df = pd.read_csv(str(filepath))\n",
    "my_histogram = df['steps'].groupby(df['date']).sum().plot(kind=\"bar\")\n",
    "# my_other_histogram = df['steps'].groupby(df['date']).sum().plot.hist"
   ]
  },
  {
   "cell_type": "code",
   "execution_count": 101,
   "metadata": {},
   "outputs": [
    {
     "output_type": "stream",
     "name": "stdout",
     "text": [
      "date\n01/10/2012    NaN\n01/11/2012    NaN\n02/10/2012    0.0\n02/11/2012    0.0\n03/10/2012    0.0\n             ... \n29/10/2012    0.0\n29/11/2012    0.0\n30/10/2012    0.0\n30/11/2012    NaN\n31/10/2012    0.0\nName: steps, Length: 61, dtype: float64\ndate\n01/10/2012          NaN\n01/11/2012          NaN\n02/10/2012     0.437500\n02/11/2012    36.805556\n03/10/2012    39.416667\n                ...    \n29/10/2012    17.423611\n29/11/2012    24.468750\n30/10/2012    34.093750\n30/11/2012          NaN\n31/10/2012    53.520833\nName: steps, Length: 61, dtype: float64\n"
     ]
    }
   ],
   "source": [
    "# 3 for each date\n",
    "print(df['steps'].groupby(df['date']).median())\n",
    "print(df['steps'].groupby(df['date']).mean())"
   ]
  }
 ]
}